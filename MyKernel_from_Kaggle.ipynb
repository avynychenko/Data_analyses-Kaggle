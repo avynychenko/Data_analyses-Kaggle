{
 "cells": [
  {
   "cell_type": "code",
   "execution_count": 350,
   "metadata": {},
   "outputs": [],
   "source": [
    "import pandas as pd\n",
    "import numpy as np\n",
    "from math import *\n",
    "from sklearn.model_selection import train_test_split\n",
    "from sklearn.model_selection import cross_val_score\n",
    "from sklearn.compose import ColumnTransformer\n",
    "from sklearn.pipeline import Pipeline\n",
    "from sklearn.impute import SimpleImputer\n",
    "from sklearn.preprocessing import OneHotEncoder\n",
    "from sklearn.ensemble import RandomForestRegressor\n",
    "from xgboost import XGBRegressor\n",
    "from sklearn.metrics import mean_absolute_error\n",
    "from sklearn.metrics import mean_squared_error\n",
    "from sklearn.model_selection import GridSearchCV\n",
    "from sklearn.preprocessing import OneHotEncoder\n",
    "from matplotlib.pyplot import boxplot \n",
    "import seaborn as sns\n",
    "import warnings\n",
    "warnings.filterwarnings('ignore')"
   ]
  },
  {
   "cell_type": "code",
   "execution_count": 351,
   "metadata": {
    "_cell_guid": "b1076dfc-b9ad-4769-8c92-a6c4dae69d19",
    "_uuid": "8f2839f25d086af736a60e9eeb907d3b93b6e0e5"
   },
   "outputs": [],
   "source": [
    "# X_train_full = pd.read_csv('../input/train.csv', index_col='Id')\n",
    "# X_test = pd.read_csv('../input/test.csv', index_col='Id')\n",
    "X_train_full = pd.read_csv('/Users/avyny/Documents/Data_analyses-Kaggle/Data_House_Pricing/train.csv', index_col='Id')\n",
    "X_test = pd.read_csv('/Users/avyny/Documents/Data_analyses-Kaggle/Data_House_Pricing/test.csv', index_col='Id')\n",
    "# X_train_full = pd.read_csv('D:\\\\Learning_IT\\\\Data_analyses-Kaggle\\\\Data_House_Pricing\\\\train.csv', index_col='Id')\n",
    "# X_test = pd.read_csv('D:\\\\Learning_IT\\\\Data_analyses-Kaggle\\\\Data_House_Pricing\\\\test.csv', index_col='Id')\n",
    "\n",
    "## Separating target value and features\n",
    "y = X_train_full.SalePrice              \n",
    "X_train_full.drop(['SalePrice'], axis=1, inplace=True)"
   ]
  },
  {
   "cell_type": "code",
   "execution_count": 352,
   "metadata": {
    "_cell_guid": "79c7e3d0-c299-4dcb-8224-4455121ee9b0",
    "_uuid": "d629ff2d2480ee46fbb7e2d37f6b5fab8052498a"
   },
   "outputs": [
    {
     "data": {
      "text/plain": [
       "LotFrontage      259\n",
       "Alley           1369\n",
       "MasVnrType         8\n",
       "MasVnrArea         8\n",
       "BsmtQual          37\n",
       "BsmtCond          37\n",
       "BsmtExposure      38\n",
       "BsmtFinType1      37\n",
       "BsmtFinType2      38\n",
       "Electrical         1\n",
       "FireplaceQu      690\n",
       "GarageType        81\n",
       "GarageYrBlt       81\n",
       "GarageFinish      81\n",
       "GarageQual        81\n",
       "GarageCond        81\n",
       "PoolQC          1453\n",
       "Fence           1179\n",
       "MiscFeature     1406\n",
       "dtype: int64"
      ]
     },
     "execution_count": 352,
     "metadata": {},
     "output_type": "execute_result"
    }
   ],
   "source": [
    "## Detecting of NA\n",
    "missing_val_count_by_column = (X_train_full.isnull().sum())\n",
    "missing_val_count_by_column[missing_val_count_by_column > 0]"
   ]
  },
  {
   "cell_type": "code",
   "execution_count": 353,
   "metadata": {},
   "outputs": [],
   "source": [
    "## So, a lot of missing values in column 'Alley' - it is better to delete it\n",
    "# Also I decided to drop 'Utilities' because it's close to constant variable\n",
    "X_train_full = X_train_full.drop(['Alley', 'Utilities'], axis = 1)\n",
    "X_test = X_test.drop(['Alley', 'Utilities'], axis = 1)"
   ]
  },
  {
   "cell_type": "code",
   "execution_count": 354,
   "metadata": {},
   "outputs": [
    {
     "data": {
      "text/html": [
       "<div>\n",
       "<style scoped>\n",
       "    .dataframe tbody tr th:only-of-type {\n",
       "        vertical-align: middle;\n",
       "    }\n",
       "\n",
       "    .dataframe tbody tr th {\n",
       "        vertical-align: top;\n",
       "    }\n",
       "\n",
       "    .dataframe thead th {\n",
       "        text-align: right;\n",
       "    }\n",
       "</style>\n",
       "<table border=\"1\" class=\"dataframe\">\n",
       "  <thead>\n",
       "    <tr style=\"text-align: right;\">\n",
       "      <th></th>\n",
       "      <th>SalePrice</th>\n",
       "    </tr>\n",
       "    <tr>\n",
       "      <th>Id</th>\n",
       "      <th></th>\n",
       "    </tr>\n",
       "  </thead>\n",
       "  <tbody>\n",
       "    <tr>\n",
       "      <th>692</th>\n",
       "      <td>755000</td>\n",
       "    </tr>\n",
       "    <tr>\n",
       "      <th>1183</th>\n",
       "      <td>745000</td>\n",
       "    </tr>\n",
       "    <tr>\n",
       "      <th>1170</th>\n",
       "      <td>625000</td>\n",
       "    </tr>\n",
       "    <tr>\n",
       "      <th>899</th>\n",
       "      <td>611657</td>\n",
       "    </tr>\n",
       "  </tbody>\n",
       "</table>\n",
       "</div>"
      ],
      "text/plain": [
       "      SalePrice\n",
       "Id             \n",
       "692      755000\n",
       "1183     745000\n",
       "1170     625000\n",
       "899      611657"
      ]
     },
     "execution_count": 354,
     "metadata": {},
     "output_type": "execute_result"
    }
   ],
   "source": [
    "# Finding outliers in SalePrice\n",
    "pd.DataFrame(y).sort_values(by = 'SalePrice', ascending = False).head(4)"
   ]
  },
  {
   "cell_type": "code",
   "execution_count": 355,
   "metadata": {},
   "outputs": [
    {
     "data": {
      "text/plain": [
       "<matplotlib.axes._subplots.AxesSubplot at 0x12dc306a0>"
      ]
     },
     "execution_count": 355,
     "metadata": {},
     "output_type": "execute_result"
    },
    {
     "data": {
      "image/png": "[encoded data removed]",
      "text/plain": [
       "<Figure size 432x288 with 1 Axes>"
      ]
     },
     "metadata": {
      "needs_background": "light"
     },
     "output_type": "display_data"
    }
   ],
   "source": [
    "# Density plot for Sale Prices\n",
    "sns.distplot(y)"
   ]
  },
  {
   "cell_type": "code",
   "execution_count": 356,
   "metadata": {},
   "outputs": [],
   "source": [
    "### POSSIBLE OUTLIERS\n",
    "\n",
    "# y = y.drop([692, 1183, 1170, 899], axis = 0)\n",
    "# X_train_full = X_train_full.drop([692, 1183, 1170, 899], axis = 0)\n",
    "\n",
    "# The most expensive SalePrice is obsevations # 692, 1183, 1170, 899 (> 600000)\n",
    "\n",
    "# Huge 'LotArea' in observations # 314, 336, 250, 707 (> 100000 )\n",
    "# Huge 'LotFrontage' in observations # 1299, 935, 1128 ( > 180 )\n",
    "# Huge 'GrLivArea'(общая жилая площадь) # 1299, 524, 1183, 692 ( > 4000 )\n"
   ]
  },
  {
   "cell_type": "code",
   "execution_count": 357,
   "metadata": {},
   "outputs": [],
   "source": [
    "## Preprocessing data\n",
    "### Simplifying features\n",
    "X_train_full['Street'], X_test['Street'] = X_train_full['Street'].map({'Pave': 1, 'Grvl': 0}), X_test['Street'].map({'Pave': 1, 'Grvl': 0})\n",
    "\n",
    "X_train_full['Condition2'] = X_train_full['Condition2'].apply(lambda z: 1 if z == 'Norm' else 0)\n",
    "X_test['Condition2'] = X_test['Condition2'].apply(lambda z: 1 if z == 'Norm' else 0)\n",
    "\n",
    "X_train_full['RoofMatl'] = X_train_full['RoofMatl'].apply(lambda x: 'CompShg' if x == 'CompShg' else 'Tar&Grv' if x == 'Tar&Grv' else 'Others')\n",
    "X_test['RoofMatl'] = X_test['RoofMatl'].apply(lambda x: 'CompShg' if x == 'CompShg' else 'Tar&Grv' if x == 'Tar&Grv' else 'Others')\n",
    "\n",
    "X_train_full['Heating'] = X_train_full['Heating'].apply(lambda x: 'GasA' if x == 'GasA' else 'GasW' if x == 'GasW' else 'Others')\n",
    "X_test['Heating'] = X_test['Heating'].apply(lambda x: 'GasA' if x == 'GasA' else 'GasW' if x == 'GasW' else 'Others')\n",
    "\n",
    "X_train_full['CentralAir'] = X_train_full['CentralAir'].map({'Y': 1, 'N': 0})\n",
    "X_test['CentralAir'] = X_test['CentralAir'].map({'Y': 1, 'N': 0})\n",
    "\n",
    "### Filling NA with variables\n",
    "X_train_full['LotFrontage'] = X_train_full.groupby('Neighborhood')['LotFrontage'].transform(lambda x: x.fillna(x.mean()))\n",
    "X_test['LotFrontage'] = X_test.groupby('Neighborhood')['LotFrontage'].transform(lambda x: x.fillna(x.mean()))\n",
    "\n",
    "X_test['BsmtFinSF1'] = X_test['BsmtFinSF1'].fillna(0)\n",
    "X_test['BsmtFinSF2'] = X_test['BsmtFinSF2'].fillna(0)\n",
    "X_test['BsmtUnfSF'] = X_test['BsmtUnfSF'].fillna(0)\n",
    "X_test['TotalBsmtSF'] = X_test['TotalBsmtSF'].fillna(0)\n",
    "X_train_full['BsmtQual'], X_test['BsmtQual'] = X_train_full['BsmtQual'].fillna('NoBsmt'), X_test['BsmtQual'].fillna('NoBsmt')\n",
    "X_train_full['BsmtCond'], X_test['BsmtCond'] = X_train_full['BsmtCond'].fillna('NoBsmt'), X_test['BsmtCond'].fillna('NoBsmt')\n",
    "X_train_full['BsmtExposure'], X_test['BsmtExposure'] = X_train_full['BsmtExposure'].fillna('NoBsmt'), X_test['BsmtExposure'].fillna('NoBsmt')\n",
    "X_train_full['BsmtFinType1'], X_test['BsmtFinType1'] = X_train_full['BsmtFinType1'].fillna('NoBsmt'), X_test['BsmtFinType1'].fillna('NoBsmt')\n",
    "X_train_full['BsmtFinType2'], X_test['BsmtFinType2'] = X_train_full['BsmtFinType2'].fillna('NoBsmt'), X_test['BsmtFinType2'].fillna('NoBsmt')\n",
    "\n",
    "X_test['BsmtFullBath'] = X_test['BsmtFullBath'].fillna(0)\n",
    "X_test['BsmtHalfBath'] = X_test['BsmtHalfBath'].fillna(0)\n",
    "X_train_full['FireplaceQu'] = X_train_full['FireplaceQu'].fillna('NoFireplace')\n",
    "X_test['FireplaceQu'] = X_test['FireplaceQu'].fillna('NoFireplace')\n",
    "\n",
    "X_train_full['GarageType'], X_test['GarageType']  = X_train_full['GarageType'].fillna('NoGarage'), X_test['GarageType'].fillna('NoGarage')\n",
    "X_train_full['GarageYrBlt'], X_test['GarageYrBlt']  = X_train_full['GarageYrBlt'].fillna(0), X_test['GarageYrBlt'].fillna(0)\n",
    "X_train_full['GarageFinish'], X_test['GarageFinish']  = X_train_full['GarageFinish'].fillna('NoGarage'), X_test['GarageFinish'].fillna('NoGarage')\n",
    "X_train_full['GarageQual'], X_test['GarageQual']  = X_train_full['GarageQual'].fillna('NoGarage'), X_test['GarageQual'].fillna('NoGarage')\n",
    "X_train_full['GarageCond'], X_test['GarageCond']  = X_train_full['GarageCond'].fillna('NoGarage'), X_test['GarageCond'].fillna('NoGarage')\n",
    "X_test['GarageCars'] = X_test['GarageCars'].fillna(0)\n",
    "X_test['GarageArea'] = X_test['GarageArea'].fillna(0)\n",
    "X_train_full['MasVnrArea'], X_test['MasVnrArea'] = X_train_full['MasVnrArea'].fillna(0), X_test['MasVnrArea'].fillna(0)\n",
    "\n",
    "X_train_full['PoolQC'], X_test['PoolQC'] = X_train_full['PoolQC'].fillna('NoPool'), X_test['PoolQC'].fillna('NoPool')\n",
    "X_train_full['Fence'], X_test['Fence'] = X_train_full['Fence'].fillna('NoFence'), X_test['Fence'].fillna('NoFence')\n",
    "\n",
    "X_train_full['MiscFeature'], X_test['MiscFeature'] = X_train_full['MiscFeature'].fillna('NoMiscFeature'), X_test['MiscFeature'].fillna('NoMiscFeature')\n",
    "\n",
    "\n",
    "### Creating additional syntetic variables\n",
    "X_train_full['Total_amt_bathrooms'] = X_train_full.BsmtFullBath + X_train_full.FullBath + 0.5*X_train_full.BsmtHalfBath + 0.5*X_train_full.HalfBath\n",
    "X_test['Total_amt_bathrooms'] = X_test.BsmtFullBath + X_test.FullBath + 0.5*X_test.BsmtHalfBath + 0.5*X_test.HalfBath\n",
    "\n",
    "X_train_full['Total_porch_sf'] = X_train_full.OpenPorchSF + X_train_full.EnclosedPorch + X_train_full['3SsnPorch'] + X_train_full.ScreenPorch\n",
    "X_test['Total_porch_sf'] = X_test.OpenPorchSF + X_test.EnclosedPorch + X_test['3SsnPorch'] + X_test.ScreenPorch\n",
    "\n",
    "X_train_full['Remodel_aft_building_years'] = X_train_full.YearRemodAdd - X_train_full.YearBuilt\n",
    "X_test['Remodel_aft_building_years'] = X_test.YearRemodAdd - X_test.YearBuilt\n",
    "\n",
    "X_train_full['Total_SF'] = X_train_full.TotalBsmtSF + X_train_full['1stFlrSF'] + X_train_full['2ndFlrSF']\n",
    "X_test['Total_SF'] = X_test.TotalBsmtSF + X_test['1stFlrSF'] + X_test['2ndFlrSF']\n",
    "\n",
    "X_train_full['Has2ndFloor'] = X_train_full['2ndFlrSF'].apply(lambda x: 1 if x > 0 else 0)\n",
    "X_test['Has2ndFloor'] = X_test['2ndFlrSF'].apply(lambda x: 1 if x > 0 else 0)\n",
    "\n",
    "X_train_full['HasFireplace'] = X_train_full['Fireplaces'].apply(lambda x: 1 if x > 0 else 0)\n",
    "X_test['HasFireplace'] = X_test['Fireplaces'].apply(lambda x: 1 if x > 0 else 0)\n",
    "\n",
    "X_train_full['HasBsmt'] = X_train_full['TotalBsmtSF'].apply(lambda x: 1 if x > 0 else 0)\n",
    "X_test['HasBsmt'] = X_test['TotalBsmtSF'].apply(lambda x: 1 if x > 0 else 0)\n",
    "\n",
    "X_train_full['HasGarage'] = X_train_full['GarageArea'].apply(lambda x: 1 if x > 0 else 0)\n",
    "X_test['HasGarage'] = X_test['GarageArea'].apply(lambda x: 1 if x > 0 else 0)\n",
    "\n",
    "X_train_full['HasPorch'] = X_train_full['Total_porch_sf'].apply(lambda x: 1 if x > 0 else 0)\n",
    "X_test['HasPorch'] = X_test['Total_porch_sf'].apply(lambda x: 1 if x > 0 else 0)\n",
    "\n",
    "X_train_full['HasPool'] = X_train_full['PoolArea'].apply(lambda x: 1 if x > 0 else 0)\n",
    "X_test['HasPool'] = X_test['PoolArea'].apply(lambda x: 1 if x > 0 else 0)\n",
    "\n",
    "X_train_full['HasFence'] = X_train_full['Fence'].apply(lambda x: 1 if x != 'NoFence' else 0)\n",
    "X_test['HasFence'] = X_test['Fence'].apply(lambda x: 1 if x != 'NoFence' else 0)\n",
    "\n",
    "\n",
    "### Changin dtypes of some columns\n",
    "X_train_full['GarageYrBlt'], X_test['GarageYrBlt'] = X_train_full['GarageYrBlt'].astype('int64'), X_test['GarageYrBlt'].astype('int64')\n",
    "\n",
    "X_train_full = X_train_full.drop('YearRemodAdd', axis=1)\n",
    "X_test = X_test.drop('YearRemodAdd', axis=1)"
   ]
  },
  {
   "cell_type": "code",
   "execution_count": 358,
   "metadata": {},
   "outputs": [],
   "source": [
    "## Imputing missing variables with simple imputer for least vars\n",
    "\n",
    "X_train_full = pd.get_dummies(X_train_full)\n",
    "X_test = pd.get_dummies(X_test)\n",
    "\n",
    "si = SimpleImputer(strategy='most_frequent')\n",
    "\n",
    "X_train_a = pd.DataFrame(si.fit_transform(X_train_full))\n",
    "X_train_a.columns = X_train_full.columns\n",
    "\n",
    "X_test_a = pd.DataFrame(si.fit_transform(X_test))\n",
    "X_test_a.columns = X_test.columns\n",
    "X_test_a.index = X_test.index\n",
    "\n",
    "X_train_a, X_test_a = X_train_a.align(X_test_a, join='left', axis=1)"
   ]
  },
  {
   "cell_type": "code",
   "execution_count": 359,
   "metadata": {},
   "outputs": [],
   "source": [
    "## Deleting possible outliers\n",
    "\n",
    "# The most expensive SalePrice is obsevations # 692, 1183, 1170, 899 (> 600000)\n",
    "\n",
    "# Huge 'LotArea' in observations # 314, 336, 250, 707 (> 100000 )\n",
    "# Huge 'LotFrontage' in observations # 1299, 935, 1128 ( > 180 )\n",
    "# Huge 'GrLivArea'(общая жилая площадь) # 1299, 524, 1183, 692 ( > 4000 )\n",
    "\n",
    "## 1183 нужен!\n",
    "y = y.drop([1183, 692], axis = 0)\n",
    "X_train_a = X_train_a.drop([1183, 692], axis = 0)"
   ]
  },
  {
   "cell_type": "code",
   "execution_count": 360,
   "metadata": {},
   "outputs": [],
   "source": [
    "## Splitting variables on train//test sizes\n",
    "X_train, X_valid, y_train, y_valid = train_test_split(X_train_a, y, train_size = 0.8, test_size = 0.2, random_state = 25)"
   ]
  },
  {
   "cell_type": "code",
   "execution_count": 361,
   "metadata": {},
   "outputs": [],
   "source": [
    "# y_train = np.log1p(y_train)"
   ]
  },
  {
   "cell_type": "code",
   "execution_count": 362,
   "metadata": {},
   "outputs": [],
   "source": [
    "# model = XGBRegressor()\n",
    "# parameters = {'n_estimators': [300, 500, 700, 800, 900],\n",
    "#               'learning_rate': [.02, .03, .04, .05, .08, .1],\n",
    "#               'max_depth': [3, 4, 5, 6, 7],\n",
    "#               'subsample': [.5, .7, .8, 1],\n",
    "#               'colsample_bytree': [.8, 1]}\n",
    "# cv = GridSearchCV(model, param_grid=parameters, scoring = 'neg_mean_squared_error')\n",
    "# cv.fit(X_train, y_train)"
   ]
  },
  {
   "cell_type": "code",
   "execution_count": 363,
   "metadata": {},
   "outputs": [
    {
     "name": "stdout",
     "output_type": "stream",
     "text": [
      "[19:59:07] WARNING: src/objective/regression_obj.cu:152: reg:linear is now deprecated in favor of reg:squarederror.\n"
     ]
    },
    {
     "data": {
      "text/plain": [
       "XGBRegressor(base_score=0.5, booster='gbtree', colsample_bylevel=1,\n",
       "             colsample_bynode=1, colsample_bytree=0.8, gamma=0,\n",
       "             importance_type='gain', learning_rate=0.04, max_delta_step=0,\n",
       "             max_depth=5, min_child_weight=1, missing=None, n_estimators=450,\n",
       "             n_jobs=1, nthread=None, objective='reg:linear', random_state=0,\n",
       "             reg_alpha=0, reg_lambda=1, scale_pos_weight=1, seed=None,\n",
       "             silent=None, subsample=0.5, verbosity=1)"
      ]
     },
     "execution_count": 363,
     "metadata": {},
     "output_type": "execute_result"
    }
   ],
   "source": [
    "# model = XGBRegressor(colsample_bytree = 0.8, learning_rate = 0.03, max_depth = 3, n_estimators= 900, subsample= 0.5)\n",
    "model = XGBRegressor(n_estimators = 450, learning_rate= 0.04, subsample = 0.5, max_depth = 5, colsample_bytree=0.8)\n",
    "model.fit(X_train, y_train)"
   ]
  },
  {
   "cell_type": "code",
   "execution_count": 364,
   "metadata": {},
   "outputs": [
    {
     "name": "stdout",
     "output_type": "stream",
     "text": [
      "Mean Absolute Error: 12689.187352846746\n",
      "Root Mean Squared Error: 0.11788442479101509\n",
      "Root Mean Squared Error: 19923.114166472256\n"
     ]
    }
   ],
   "source": [
    "predictions = model.predict(X_valid)\n",
    "# predictions = np.floor(np.expm1(predictions))\n",
    "\n",
    "mae = mean_absolute_error(y_valid, predictions)\n",
    "print(\"Mean Absolute Error:\" , mae)\n",
    "\n",
    "y_valid = np.array(y_valid)\n",
    "# base = 2.5611\n",
    "# # base = 2.494\n",
    "# rmse = np.sqrt(mean_squared_error((np.log(predictions_2)/np.log(base)), (np.log(y_valid)/np.log(base))))\n",
    "# rmse = np.sqrt(mean_squared_error(predictions_2, y_valid))\n",
    "rmse = np.sqrt(mean_squared_error(np.log(predictions), np.log(y_valid)))\n",
    "print(\"Root Mean Squared Error:\" , rmse)\n",
    "\n",
    "rmse2 = np.sqrt(mean_squared_error(predictions, y_valid))\n",
    "print(\"Root Mean Squared Error:\" , rmse2)"
   ]
  },
  {
   "cell_type": "code",
   "execution_count": null,
   "metadata": {},
   "outputs": [],
   "source": []
  },
  {
   "cell_type": "code",
   "execution_count": null,
   "metadata": {},
   "outputs": [],
   "source": []
  },
  {
   "cell_type": "code",
   "execution_count": null,
   "metadata": {},
   "outputs": [],
   "source": []
  },
  {
   "cell_type": "code",
   "execution_count": 365,
   "metadata": {},
   "outputs": [],
   "source": [
    "## model n_estimators = 450, learning_rate= 0.065, colsample_bytree = 0.8, subsample = 0.8, max_depth = 4, reg_lambda = 0.998\n",
    "## random_state = 25\n",
    "## 0.8/0.2 train/test sizes\n",
    "\n",
    "## WITHOUT outliers\n",
    "# Mean Absolute Error: 12983   Root Mean Squared Error: 0.1163  Root Mean Squared Error: 22119\n",
    "# SCORE1 = 14570, SCORE2 = 0.13043 (without logariphm)\n",
    "\n",
    "## with deleting outlier 1183 \n",
    "#Mean Absolute Error: 14862.07  Root Mean Squared Error: 0.12970 Root Mean Squared Error: 26221.97\n",
    "# SCORE1 = 14331.939; SCORE2 =  0.13395\n",
    "# (LOG 'y' target variable)\n",
    "#Mean Absolute Error: 14397.342  Root Mean Squared Error: 0.1274  Root Mean Squared Error: 26656.391\n",
    "# SCORE1 = 14903.59; SCORE2 = 0.13545 \n",
    "\n",
    "## outliers # 1183, 692, 1299 \n",
    "# (LOG 'y' target variable)\n",
    "# Mean Absolute Error: 12706.3   Root Mean Squared Error: 0.116956  Root Mean Squared Error: 19447.849\n",
    "# SCORE1 = 14185.03429; SCORE2 = 0.12704  (SCORE2 = 0.13230 (without logariphm))\n",
    "\n",
    "##outliers # 1183, 692, 1299, 524\n",
    "# Mean Absolute Error: 12503.683   Root Mean Squared Error: 0.11214  Root Mean Squared Error: 18252.242\n",
    "# SCORE1 = 14361, SCORE2 = 0.12688 (without logariphm)\n",
    "# (LOG 'y' target variable)\n",
    "# Mean Absolute Error: 12570.852   Root Mean Squared Error: 0.1099  Root Mean Squared Error: 18159.009\n",
    "#SCORE2 = 0.13386\n",
    "\n",
    "##outliers # 1183, 692, 1299, 524, 935, 1128, 1170\n",
    "# Mean Absolute Error: 12417   Root Mean Squared Error: 0.1000  Root Mean Squared Error: 19126\n",
    "# SCORE1 = 14515, SCORE2 = 0.12987 (without logariphm)\n"
   ]
  },
  {
   "cell_type": "code",
   "execution_count": 367,
   "metadata": {},
   "outputs": [],
   "source": [
    "# preds_test = model.predict(X_test_a)\n",
    "# preds_test = np.floor(np.expm1(preds_test))\n",
    "# output = pd.DataFrame({'Id': X_test_a.index,\n",
    "#                        'SalePrice': preds_test})\n",
    "# output.to_csv('submission.csv', index=False)"
   ]
  },
  {
   "cell_type": "code",
   "execution_count": null,
   "metadata": {},
   "outputs": [],
   "source": []
  }
 ],
 "metadata": {
  "kernelspec": {
   "display_name": "Python 3",
   "language": "python",
   "name": "python3"
  },
  "language_info": {
   "codemirror_mode": {
    "name": "ipython",
    "version": 3
   },
   "file_extension": ".py",
   "mimetype": "text/x-python",
   "name": "python",
   "nbconvert_exporter": "python",
   "pygments_lexer": "ipython3",
   "version": "3.7.3"
  }
 },
 "nbformat": 4,
 "nbformat_minor": 1
}
